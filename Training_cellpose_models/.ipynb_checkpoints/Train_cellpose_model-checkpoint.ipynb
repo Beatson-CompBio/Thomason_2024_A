{
 "cells": [
  {
   "cell_type": "markdown",
   "id": "e894955a-e101-47db-bde1-1e08ea104a85",
   "metadata": {},
   "source": [
    "# Cellpose program. \n",
    "\n",
    "This is a program used to generate a new cellpose model based on a series of representative images and their corresponding labelled images. "
   ]
  },
  {
   "cell_type": "code",
   "execution_count": 19,
   "id": "e93c16d4-d2d7-4b6a-9679-d35d00fce944",
   "metadata": {
    "tags": []
   },
   "outputs": [],
   "source": [
    "from cellpose import core, models, io, metrics\n",
    "import os\n",
    "\n",
    "import matplotlib.pyplot as plt\n",
    "import numpy as np \n",
    "import pandas as pd\n",
    "import tqdm \n",
    "import tifffile as tf\n",
    "\n",
    "import tqdm\n",
    "import tkinter as tk\n",
    "from tkinter import filedialog\n",
    "\n",
    "\n",
    "from PIL import Image\n",
    "\n"
   ]
  },
  {
   "cell_type": "markdown",
   "id": "09eb4444-cdc3-4c47-9e4e-97f3e4b77705",
   "metadata": {},
   "source": [
    "### set the Folder path for the test images"
   ]
  },
  {
   "cell_type": "code",
   "execution_count": 20,
   "id": "d2833fce-fdf8-433d-8cf6-bae62e3668d2",
   "metadata": {
    "tags": []
   },
   "outputs": [],
   "source": [
    "root = tk.Tk()\n",
    "root.withdraw() # Stops a second window opening\n",
    "image_folder = filedialog.askdirectory(title = 'Select image Folder')"
   ]
  },
  {
   "cell_type": "markdown",
   "id": "2c6a8282-c862-4922-babd-bc6483ff3236",
   "metadata": {},
   "source": [
    "### Set the folder path for the user defined masks"
   ]
  },
  {
   "cell_type": "code",
   "execution_count": 21,
   "id": "70550f82-8c6d-4722-bee4-a313c99a8b8d",
   "metadata": {
    "tags": []
   },
   "outputs": [],
   "source": [
    "root = tk.Tk()\n",
    "root.withdraw() # Stops a second window opening\n",
    "mask_folder = filedialog.askdirectory(title = 'Select Masks Folder')"
   ]
  },
  {
   "cell_type": "markdown",
   "id": "7205c4b4-a1da-4e34-bd9a-765dbacadc70",
   "metadata": {},
   "source": [
    "#### Create a method to extract all the filenames from a folder. "
   ]
  },
  {
   "cell_type": "code",
   "execution_count": 22,
   "id": "99500acf-d7d8-4ce1-b18a-53d0b613084e",
   "metadata": {
    "tags": []
   },
   "outputs": [],
   "source": [
    "def get_files_from_folder(folder_path): \n",
    "    '''A method to extract all files from the image.'''\n",
    "\n",
    "    file_list = os.listdir(folder_path)\n",
    "    image_files = []\n",
    "    \n",
    "    for i in range( len(file_list) ): \n",
    "        if file_list[i][-4:] == '.tif' or file_list[i][-4:] == '.png':\n",
    "            image_files.append(file_list[i])\n",
    "        \n",
    "    return(image_files)"
   ]
  },
  {
   "cell_type": "markdown",
   "id": "33f19685-48ef-4a0f-ac5b-bac029ae70f7",
   "metadata": {},
   "source": [
    "#### Create a method to download in the image data from the image file name. "
   ]
  },
  {
   "cell_type": "code",
   "execution_count": 23,
   "id": "34bdb4c1-abd0-4a8b-a57e-2a0af7370722",
   "metadata": {
    "tags": []
   },
   "outputs": [],
   "source": [
    "def get_image_data(image_file):\n",
    "    '''Get the image data from the file using Pillow.\n",
    "    Convert the PILLOW image to a numpy array'''\n",
    "\n",
    "    image_data = tf.imread(image_file)\n",
    "    \n",
    "    # print(image_data.getexif())\n",
    "    \n",
    "    np_image_data = np.array(image_data)\n",
    "\n",
    "    return(np_image_data)"
   ]
  },
  {
   "cell_type": "code",
   "execution_count": 24,
   "id": "e1237af7-06f0-42ff-ac68-4c00184b31fc",
   "metadata": {
    "tags": []
   },
   "outputs": [
    {
     "name": "stdout",
     "output_type": "stream",
     "text": [
      "20\n",
      "20\n"
     ]
    }
   ],
   "source": [
    "image_file_list = get_files_from_folder(image_folder)\n",
    "mask_file_list = get_files_from_folder(mask_folder)\n",
    "\n",
    "print( len(image_file_list) )\n",
    "print( len(mask_file_list) )"
   ]
  },
  {
   "cell_type": "code",
   "execution_count": 25,
   "id": "af8262e0-4ab9-4fb7-bcfc-efd6b5e4c818",
   "metadata": {
    "tags": []
   },
   "outputs": [
    {
     "name": "stdout",
     "output_type": "stream",
     "text": [
      "N:/RCORBYN/User_Data/20231201_Demi_NKCells/cropped_images/QuPath/ground_truth/_images\n",
      "N:/RCORBYN/User_Data/20231201_Demi_NKCells/cropped_images/QuPath/ground_truth/_masks\n"
     ]
    }
   ],
   "source": [
    "print(image_folder)\n",
    "print(mask_folder)"
   ]
  },
  {
   "cell_type": "markdown",
   "id": "3b1ff93e-bd8f-44e2-a5ee-0a9e6a5c7a70",
   "metadata": {},
   "source": [
    "#### extract datasets for testing/training"
   ]
  },
  {
   "cell_type": "code",
   "execution_count": 26,
   "id": "819862a3-0f01-43ad-a51c-5583c83a2a38",
   "metadata": {
    "tags": []
   },
   "outputs": [],
   "source": [
    "training_image_index = np.random.choice(len(image_file_list)-1, size = int(0.8*(len(image_file_list)-1)), replace = False)"
   ]
  },
  {
   "cell_type": "code",
   "execution_count": 27,
   "id": "b4ec004d-8134-47bf-9e56-27a43ba590eb",
   "metadata": {
    "tags": []
   },
   "outputs": [
    {
     "name": "stdout",
     "output_type": "stream",
     "text": [
      "[ 0  1  2  3  5  6  8 10 11 13 14 15 16 17 18]\n",
      "15\n"
     ]
    }
   ],
   "source": [
    "print(np.sort(training_image_index))\n",
    "print(len(training_image_index))"
   ]
  },
  {
   "cell_type": "code",
   "execution_count": 28,
   "id": "8a860fa5-60f2-475f-9fd8-905efde192ad",
   "metadata": {
    "tags": []
   },
   "outputs": [
    {
     "name": "stdout",
     "output_type": "stream",
     "text": [
      "[4, 7, 9, 12, 19]\n",
      "5\n"
     ]
    }
   ],
   "source": [
    "test_image_index = []\n",
    "\n",
    "for i in range(len(image_file_list)):\n",
    "    if len(np.where(training_image_index == i)[0]) == 0:\n",
    "        test_image_index.append(i)\n",
    "\n",
    "print(test_image_index)\n",
    "print(len(test_image_index))"
   ]
  },
  {
   "cell_type": "markdown",
   "id": "f05aee83-72d4-4b01-a53d-400332bf3c65",
   "metadata": {},
   "source": [
    "### Get test images and user_masks into a format for cellpose model Training. "
   ]
  },
  {
   "cell_type": "code",
   "execution_count": 29,
   "id": "8a267643-9643-4c1c-9e0d-c691cc59895e",
   "metadata": {
    "tags": []
   },
   "outputs": [
    {
     "name": "stdout",
     "output_type": "stream",
     "text": [
      "(178, 197)\n",
      "(178, 197)\n",
      "15\n"
     ]
    }
   ],
   "source": [
    "ground_truth_training = []\n",
    "training_images = []\n",
    "\n",
    "for i in range(len(training_image_index)):\n",
    "    # get the image data\n",
    "    image_file_name = image_file_list[training_image_index[i]]\n",
    "    individual_image = get_image_data(image_folder + '/'+ image_file_name)\n",
    "    training_images.append(individual_image)\n",
    "    # get the corresponding user_defined_mask\n",
    "    mask_file_name = image_file_name[0:-4] + '.tif'\n",
    "    # print(image_file_name)\n",
    "    # print(mask_file_name)\n",
    "    user_mask = get_image_data(mask_folder + '/'+ mask_file_name)\n",
    "    ground_truth_training.append(user_mask)\n",
    "\n",
    "    \n",
    "# ground_truth = np.array(ground_truth)\n",
    "print(training_images[0].shape)\n",
    "print(ground_truth_training[0].shape)\n",
    "print(len(training_images))"
   ]
  },
  {
   "cell_type": "code",
   "execution_count": null,
   "id": "b30bc961-e9a9-456e-844f-62faeba9841f",
   "metadata": {},
   "outputs": [],
   "source": []
  },
  {
   "cell_type": "markdown",
   "id": "0cfed344-8d9a-4e10-a5f9-0908a7373e06",
   "metadata": {},
   "source": [
    "### Get test images and user_masks into a format for cellpose model evaluation. "
   ]
  },
  {
   "cell_type": "code",
   "execution_count": 30,
   "id": "356245ad-eb05-456a-83f7-5611ac05c521",
   "metadata": {
    "tags": []
   },
   "outputs": [
    {
     "name": "stdout",
     "output_type": "stream",
     "text": [
      "(178, 197)\n",
      "(178, 197)\n",
      "5\n"
     ]
    }
   ],
   "source": [
    "ground_truth_test = []\n",
    "test_images = []\n",
    "\n",
    "for i in range(len(test_image_index)):\n",
    "    # get the image data\n",
    "    image_file_name = image_file_list[test_image_index[i]]\n",
    "    individual_image = get_image_data(image_folder + '/'+ image_file_name)\n",
    "    test_images.append(individual_image)\n",
    "    # get the corresponding user_defined_mask\n",
    "    mask_file_name = image_file_name[0:-4] + '.tif'\n",
    "    # print(image_file_name)\n",
    "    # print(mask_file_name)\n",
    "    user_mask = get_image_data(mask_folder + '/'+ mask_file_name)\n",
    "    ground_truth_test.append(user_mask)\n",
    "\n",
    "    \n",
    "# ground_truth = np.array(ground_truth)\n",
    "print(test_images[i].shape)\n",
    "print(ground_truth_test[i].shape)\n",
    "print(len(test_images))"
   ]
  },
  {
   "cell_type": "raw",
   "id": "12d6d0e7-372b-4bb0-99a5-8623154087a4",
   "metadata": {},
   "source": [
    "### Use the pre-defined user model in cellpose ('cyto') to segment the validation dataset."
   ]
  },
  {
   "cell_type": "raw",
   "id": "d5ba7e38-dc1a-403d-8a73-ab8c941f3ee7",
   "metadata": {
    "tags": []
   },
   "source": [
    "cellpose_masks = []\n",
    "\n",
    "# DEFINE CELLPOSE MODEL (without size model)\n",
    "model = models.CellposeModel(gpu=True, model_type='livecell')\n",
    "\n",
    "for i in tqdm.tqdm(range(len(training_images))): \n",
    "    masks, flows, styles = model.eval(training_images[i], channels=[2, 0], diameter = None)\n",
    "    cellpose_masks.append(masks)\n",
    "\n",
    "# Check the performance of the model using IoU metric. \n",
    "ap = metrics.average_precision(ground_truth_training, cellpose_masks)[0]\n",
    "print(ap[:,0].mean()) "
   ]
  },
  {
   "cell_type": "markdown",
   "id": "657ca6b2-5ca1-4192-8f59-8a0ba40d6c5c",
   "metadata": {},
   "source": [
    "--- \n",
    "\n",
    "---\n",
    "\n",
    "## Now I have tried a pre-existing cellpose model, I will attempt to train a model on the training datasets. "
   ]
  },
  {
   "cell_type": "code",
   "execution_count": 31,
   "id": "9b19b2d0-43fa-47ca-bbbc-a649493df1e6",
   "metadata": {
    "tags": []
   },
   "outputs": [
    {
     "name": "stdout",
     "output_type": "stream",
     "text": [
      "creating new log file\n",
      "2023-12-14 17:01:30,156 [INFO] WRITING LOG OUTPUT TO C:\\Users\\RCORBYN\\.cellpose\\run.log\n",
      "2023-12-14 17:01:30,156 [INFO] \n",
      "cellpose version: \t2.2 \n",
      "platform:       \twin32 \n",
      "python version: \t3.10.0 \n",
      "torch version:  \t2.0.0+cpu\n",
      "2023-12-14 17:01:30,161 [INFO] >> cyto << model set to be used\n",
      "2023-12-14 17:01:30,163 [INFO] TORCH CUDA version not installed/working.\n",
      "2023-12-14 17:01:30,165 [INFO] >>>> using CPU\n",
      "2023-12-14 17:01:30,414 [INFO] >>>> model diam_mean =  30.000 (ROIs rescaled to this size during training)\n",
      "2023-12-14 17:01:30,454 [INFO] computing flows for labels\n"
     ]
    },
    {
     "name": "stderr",
     "output_type": "stream",
     "text": [
      "100%|█████████████████████████████████████████████████████████████████████████████████| 12/12 [00:00<00:00, 149.10it/s]"
     ]
    },
    {
     "name": "stdout",
     "output_type": "stream",
     "text": [
      "2023-12-14 17:01:30,554 [INFO] computing flows for labels\n"
     ]
    },
    {
     "name": "stderr",
     "output_type": "stream",
     "text": [
      "\n",
      "100%|███████████████████████████████████████████████████████████████████████████████████| 3/3 [00:00<00:00, 217.46it/s]"
     ]
    },
    {
     "name": "stdout",
     "output_type": "stream",
     "text": [
      "2023-12-14 17:01:30,586 [INFO] >>>> median diameter set to = 30\n",
      "2023-12-14 17:01:30,586 [INFO] >>>> mean of training label mask diameters (saved to model) 7.503\n",
      "2023-12-14 17:01:30,586 [INFO] >>>> training network with 2 channel input <<<<\n",
      "2023-12-14 17:01:30,586 [INFO] >>>> LR: 0.10000, batch_size: 8, weight_decay: 0.00010\n",
      "2023-12-14 17:01:30,586 [INFO] >>>> ntrain = 12, ntest = 3\n",
      "2023-12-14 17:01:30,597 [INFO] >>>> nimg_per_epoch = 12\n"
     ]
    },
    {
     "name": "stderr",
     "output_type": "stream",
     "text": [
      "\n"
     ]
    },
    {
     "name": "stdout",
     "output_type": "stream",
     "text": [
      "2023-12-14 17:01:45,370 [INFO] Epoch 0, Time 14.8s, Loss 1.2819, Loss Test 0.2291, LR 0.0000\n",
      "2023-12-14 17:02:00,416 [INFO] saving network parameters to N:/RCORBYN/User_Data/20231201_Demi_NKCells/cropped_images/QuPath/ground_truth\\models/20231214_NK_Cell_seg_2\n",
      "2023-12-14 17:03:05,324 [INFO] Epoch 5, Time 94.7s, Loss 0.5196, Loss Test 0.1287, LR 0.0556\n",
      "2023-12-14 17:04:25,386 [INFO] Epoch 10, Time 174.8s, Loss 0.2093, Loss Test 0.3096, LR 0.1000\n",
      "2023-12-14 17:06:58,683 [INFO] Epoch 20, Time 328.1s, Loss 0.1572, Loss Test 0.1151, LR 0.1000\n",
      "2023-12-14 17:09:28,555 [INFO] Epoch 30, Time 478.0s, Loss 0.1502, Loss Test 0.1091, LR 0.1000\n",
      "2023-12-14 17:11:47,958 [INFO] Epoch 40, Time 617.4s, Loss 0.1253, Loss Test 0.0773, LR 0.1000\n",
      "2023-12-14 17:14:08,434 [INFO] Epoch 50, Time 757.8s, Loss 0.1107, Loss Test 0.0594, LR 0.1000\n",
      "2023-12-14 17:16:29,596 [INFO] Epoch 60, Time 899.0s, Loss 0.0921, Loss Test 0.0447, LR 0.1000\n",
      "2023-12-14 17:18:50,035 [INFO] Epoch 70, Time 1039.4s, Loss 0.1010, Loss Test 0.0517, LR 0.1000\n",
      "2023-12-14 17:20:54,735 [INFO] Epoch 80, Time 1164.1s, Loss 0.0820, Loss Test 0.0482, LR 0.1000\n",
      "2023-12-14 17:23:01,476 [INFO] Epoch 90, Time 1290.9s, Loss 0.0775, Loss Test 0.0475, LR 0.1000\n",
      "2023-12-14 17:24:48,419 [INFO] saving network parameters to N:/RCORBYN/User_Data/20231201_Demi_NKCells/cropped_images/QuPath/ground_truth\\models/20231214_NK_Cell_seg_2\n",
      "(178, 197)\n"
     ]
    }
   ],
   "source": [
    "# This cell is taken directly from the Colab notebook and then \n",
    "# modified for my needs. \n",
    "\n",
    "# start logger (to see training across epochs)\n",
    "logger = io.logger_setup()\n",
    "\n",
    "# DEFINE CELLPOSE MODEL (without size model)\n",
    "model = models.CellposeModel(gpu=True, model_type='cyto')\n",
    "\n",
    "# set channels\n",
    "channels = [0, 0]\n",
    "\n",
    "n_epochs = 100\n",
    "\n",
    "learning_rate = 0.1\n",
    "\n",
    "weight_decay = 0.0001\n",
    "\n",
    "\n",
    "test_files2 = list(test_images)\n",
    "test_masks2 = list(ground_truth_test)\n",
    "\n",
    "# # get files\n",
    "# output = io.load_train_test_data(train_dir, test_dir, mask_filter='_seg.npy')\n",
    "# # train_data, train_labels, _, test_data, test_labels, _ = output\n",
    "\n",
    "new_model_path = model.train(training_images[0 : int(0.8*len(training_images)) ], ground_truth_training[0 : int( 0.8*len(training_images)) ], \n",
    "                              test_data=training_images[int(0.8*len(training_images)):],\n",
    "                              test_labels=ground_truth_training[int(0.8*len(training_images)):],\n",
    "                              channels=channels, \n",
    "                              save_path=os.path.dirname(image_folder), \n",
    "                              n_epochs=n_epochs,\n",
    "                              learning_rate=learning_rate, \n",
    "                              weight_decay=weight_decay, \n",
    "                              nimg_per_epoch=8,\n",
    "                              model_name='20231214_NK_Cell_seg_2')\n",
    "\n",
    "# diameter of labels in training images\n",
    "diam_labels = model.diam_labels.copy()\n",
    "\n",
    "print(test_images[0].shape)"
   ]
  },
  {
   "cell_type": "code",
   "execution_count": 32,
   "id": "4ef0769d-dd45-4530-af46-0c48c8db4d3a",
   "metadata": {
    "tags": []
   },
   "outputs": [
    {
     "name": "stdout",
     "output_type": "stream",
     "text": [
      "2023-12-14 17:28:40,558 [INFO] >> 20231214_NK_Cell_seg_2 << model set to be used\n",
      "2023-12-14 17:28:40,558 [INFO] TORCH CUDA version not installed/working.\n",
      "2023-12-14 17:28:40,563 [INFO] >>>> using CPU\n",
      "2023-12-14 17:28:40,724 [INFO] >>>> model diam_mean =  30.000 (ROIs rescaled to this size during training)\n",
      "2023-12-14 17:28:40,724 [INFO] >>>> model diam_labels =  7.503 (mean diameter of training ROIs)\n"
     ]
    },
    {
     "name": "stderr",
     "output_type": "stream",
     "text": [
      "  0%|                                                                                            | 0/5 [00:00<?, ?it/s]"
     ]
    },
    {
     "name": "stdout",
     "output_type": "stream",
     "text": [
      "(178, 197)\n"
     ]
    },
    {
     "name": "stderr",
     "output_type": "stream",
     "text": [
      " 20%|████████████████▊                                                                   | 1/5 [00:08<00:33,  8.36s/it]"
     ]
    },
    {
     "name": "stdout",
     "output_type": "stream",
     "text": [
      "(178, 197)\n"
     ]
    },
    {
     "name": "stderr",
     "output_type": "stream",
     "text": [
      " 40%|█████████████████████████████████▌                                                  | 2/5 [00:16<00:24,  8.25s/it]"
     ]
    },
    {
     "name": "stdout",
     "output_type": "stream",
     "text": [
      "(178, 197)\n"
     ]
    },
    {
     "name": "stderr",
     "output_type": "stream",
     "text": [
      " 60%|██████████████████████████████████████████████████▍                                 | 3/5 [00:24<00:16,  8.02s/it]"
     ]
    },
    {
     "name": "stdout",
     "output_type": "stream",
     "text": [
      "(178, 197)\n"
     ]
    },
    {
     "name": "stderr",
     "output_type": "stream",
     "text": [
      " 80%|███████████████████████████████████████████████████████████████████▏                | 4/5 [00:31<00:07,  7.83s/it]"
     ]
    },
    {
     "name": "stdout",
     "output_type": "stream",
     "text": [
      "(178, 197)\n"
     ]
    },
    {
     "name": "stderr",
     "output_type": "stream",
     "text": [
      "100%|████████████████████████████████████████████████████████████████████████████████████| 5/5 [00:39<00:00,  7.92s/it]"
     ]
    },
    {
     "name": "stdout",
     "output_type": "stream",
     "text": [
      "0.6375434\n"
     ]
    },
    {
     "name": "stderr",
     "output_type": "stream",
     "text": [
      "\n"
     ]
    }
   ],
   "source": [
    "retrained_masks = []\n",
    "\n",
    "model_path = '20231214_NK_Cell_seg_2' #'home/691dec4ebdb84b42/Documents/Corbyn_Ryan/DL_School_training_data/Training_dataset/Images/models/20230606_DL_model_3'\n",
    "\n",
    "# declare model\n",
    "model = models.CellposeModel(gpu=True, model_type=model_path)\n",
    "\n",
    "for i in tqdm.tqdm(range(len(test_images) )):\n",
    "    print(test_images[i].shape)\n",
    "    masks = model.eval(test_images[i], channels = [2, 0], diameter = None)[0]\n",
    "    retrained_masks.append(masks)\n",
    "\n",
    "# Check the performance of the model using IoU metric. \n",
    "ap = metrics.average_precision(ground_truth_test, retrained_masks)[0]\n",
    "print(ap[:,0].mean()) "
   ]
  },
  {
   "cell_type": "code",
   "execution_count": 33,
   "id": "2ac873ce-5bb4-4832-931c-643b2cc42b82",
   "metadata": {
    "tags": []
   },
   "outputs": [
    {
     "name": "stdout",
     "output_type": "stream",
     "text": [
      "Cropped_im_2_frame_104.tif\n",
      "Cropped_im_2_frame_262.tif\n",
      "Cropped_im_2_frame_381.tif\n",
      "Cropped_im_2_frame_488.tif\n",
      "Cropped_im_2_frame_723.tif\n"
     ]
    }
   ],
   "source": [
    "for i in range( len(test_image_index) ):\n",
    "    print(image_file_list[test_image_index[i]])"
   ]
  },
  {
   "cell_type": "code",
   "execution_count": 34,
   "id": "771f7969-9ee5-4d86-a14f-8ad3ab50381b",
   "metadata": {
    "tags": []
   },
   "outputs": [
    {
     "data": {
      "text/plain": [
       "Text(0.5, 1.0, 'Ground truth')"
      ]
     },
     "execution_count": 34,
     "metadata": {},
     "output_type": "execute_result"
    },
    {
     "data": {
      "image/png": "[encoded data removed]",
      "text/plain": [
       "<Figure size 640x480 with 1 Axes>"
      ]
     },
     "metadata": {},
     "output_type": "display_data"
    },
    {
     "data": {
      "image/png": "[encoded data removed]",
      "text/plain": [
       "<Figure size 640x480 with 1 Axes>"
      ]
     },
     "metadata": {},
     "output_type": "display_data"
    }
   ],
   "source": [
    "im = 1\n",
    "fig1, ax1 = plt.subplots()\n",
    "ax1.imshow(test_images[im][ :, :], vmin = 50)\n",
    "ax1.imshow(retrained_masks[im], alpha = 0.25, cmap = 'inferno_r', vmax = 1)\n",
    "ax1.set_title('Cellpose Masks')\n",
    "\n",
    "fig3, ax3 = plt.subplots()\n",
    "ax3.imshow(test_images[im][ :, :], vmin = 50)\n",
    "ax3.imshow(ground_truth_test[im], alpha = 0.25, cmap = 'inferno_r', vmax = 1)\n",
    "ax3.set_title('Ground truth')"
   ]
  },
  {
   "cell_type": "code",
   "execution_count": null,
   "id": "7dc6822c-2776-436d-ba64-f3682f7535c6",
   "metadata": {
    "tags": []
   },
   "outputs": [],
   "source": [
    "print(test_images[im].shape)\n",
    "print(len(retrained_masks))\n",
    "# %matplotlib\n",
    "# plt.figure(figsize=(40,16))\n",
    "fig, ax = plt.subplots()\n",
    "ax.imshow(test_images[im][ :, :])\n",
    "fig2, ax2 = plt.subplots()\n",
    "ax2.imshow(retrained_masks[im], alpha = 0.25, cmap = 'inferno_r', vmax = 1)\n",
    "# print(np.max(retrained_masks[2]))\n"
   ]
  },
  {
   "cell_type": "code",
   "execution_count": null,
   "id": "a38d9fb9-f327-4b7d-8fdc-3ed702730690",
   "metadata": {},
   "outputs": [],
   "source": []
  },
  {
   "cell_type": "code",
   "execution_count": null,
   "id": "9868e689-8415-4730-82f0-e25194c68429",
   "metadata": {},
   "outputs": [],
   "source": [
    "#"
   ]
  },
  {
   "cell_type": "code",
   "execution_count": null,
   "id": "84404654-5273-44d8-8e57-17a0497897f0",
   "metadata": {},
   "outputs": [],
   "source": []
  },
  {
   "cell_type": "code",
   "execution_count": null,
   "id": "c7845fc7-51ba-4a9f-b8b7-c42175a7d99f",
   "metadata": {},
   "outputs": [],
   "source": []
  },
  {
   "cell_type": "code",
   "execution_count": null,
   "id": "368cea98-0fb0-4843-9520-4d2a8be289f9",
   "metadata": {},
   "outputs": [],
   "source": []
  },
  {
   "cell_type": "code",
   "execution_count": null,
   "id": "38160d52-126f-464e-9d66-0e5438397c5c",
   "metadata": {},
   "outputs": [],
   "source": []
  },
  {
   "cell_type": "code",
   "execution_count": null,
   "id": "3a4e19ee-0f1c-43bb-b9cd-ab9df549c12c",
   "metadata": {},
   "outputs": [],
   "source": []
  },
  {
   "cell_type": "code",
   "execution_count": null,
   "id": "05f20619-0c31-41b7-a9da-68c1f1eaaebf",
   "metadata": {},
   "outputs": [],
   "source": []
  },
  {
   "cell_type": "code",
   "execution_count": null,
   "id": "c88e1406-9ff3-4f18-88d7-805aba8d5ada",
   "metadata": {},
   "outputs": [],
   "source": []
  },
  {
   "cell_type": "code",
   "execution_count": null,
   "id": "c1c636f2-6a57-4903-93c0-e1f30bff5e21",
   "metadata": {},
   "outputs": [],
   "source": []
  },
  {
   "cell_type": "code",
   "execution_count": null,
   "id": "780eb8ef-5c32-4af7-84d1-1a83a6e0f65f",
   "metadata": {},
   "outputs": [],
   "source": []
  },
  {
   "cell_type": "code",
   "execution_count": null,
   "id": "602fabdc-a23c-4802-a5c7-cf344bf54be9",
   "metadata": {},
   "outputs": [],
   "source": []
  },
  {
   "cell_type": "code",
   "execution_count": null,
   "id": "7a625587-46c3-46ad-a09b-90313d023e89",
   "metadata": {},
   "outputs": [],
   "source": [
    "#"
   ]
  },
  {
   "cell_type": "code",
   "execution_count": null,
   "id": "20531c04-b626-49a2-a05f-6f298287577e",
   "metadata": {},
   "outputs": [],
   "source": [
    "##"
   ]
  },
  {
   "cell_type": "code",
   "execution_count": null,
   "id": "ad5f278d-440b-4e63-ac7d-c84ad95095d6",
   "metadata": {},
   "outputs": [],
   "source": [
    "#"
   ]
  },
  {
   "cell_type": "code",
   "execution_count": null,
   "id": "56b18031-4d8f-403a-98a7-1e1b0cdc5ffc",
   "metadata": {},
   "outputs": [],
   "source": []
  },
  {
   "cell_type": "code",
   "execution_count": null,
   "id": "20a49ba7-4618-4edb-9a0a-4cd24ef22416",
   "metadata": {},
   "outputs": [],
   "source": []
  },
  {
   "cell_type": "code",
   "execution_count": null,
   "id": "b0983c3e-f68c-424d-a806-6f6b88976af7",
   "metadata": {},
   "outputs": [],
   "source": [
    "####"
   ]
  },
  {
   "cell_type": "code",
   "execution_count": null,
   "id": "bff49af9-aa8e-4cc7-bbdb-9c395b9138f8",
   "metadata": {},
   "outputs": [],
   "source": []
  },
  {
   "cell_type": "code",
   "execution_count": null,
   "id": "265e5304-52c0-4082-92e9-5b91e9a1d9be",
   "metadata": {},
   "outputs": [],
   "source": [
    "##"
   ]
  },
  {
   "cell_type": "code",
   "execution_count": null,
   "id": "7935dcb0-94a4-433d-87ee-22abb1d2e323",
   "metadata": {},
   "outputs": [],
   "source": []
  },
  {
   "cell_type": "code",
   "execution_count": null,
   "id": "b5038118-7e0f-4778-bbc5-90de3cc083aa",
   "metadata": {},
   "outputs": [],
   "source": []
  },
  {
   "cell_type": "code",
   "execution_count": null,
   "id": "c0f92bd2-66f0-4871-bef8-4c3d450030cb",
   "metadata": {},
   "outputs": [],
   "source": [
    "#"
   ]
  },
  {
   "cell_type": "code",
   "execution_count": null,
   "id": "985dd88b-6cb2-45c8-8e48-9e56c55ce014",
   "metadata": {},
   "outputs": [],
   "source": [
    "#"
   ]
  },
  {
   "cell_type": "code",
   "execution_count": null,
   "id": "53060231-c120-49b5-bbe4-34852d1191b6",
   "metadata": {},
   "outputs": [],
   "source": []
  },
  {
   "cell_type": "code",
   "execution_count": null,
   "id": "d1d82f2b-f931-4805-8904-94ac9e704497",
   "metadata": {},
   "outputs": [],
   "source": []
  },
  {
   "cell_type": "code",
   "execution_count": null,
   "id": "0a384662-014f-4189-81ea-ae905c169348",
   "metadata": {},
   "outputs": [],
   "source": []
  },
  {
   "cell_type": "code",
   "execution_count": null,
   "id": "2b771dfd-5334-4343-b80b-f9938debc412",
   "metadata": {},
   "outputs": [],
   "source": [
    "###"
   ]
  },
  {
   "cell_type": "code",
   "execution_count": null,
   "id": "18eb982d-9d4f-44a1-a947-1e99bbf66823",
   "metadata": {},
   "outputs": [],
   "source": [
    "##"
   ]
  },
  {
   "cell_type": "code",
   "execution_count": null,
   "id": "a1dcaff1-1e9a-41ca-a29f-ed93a3b3443d",
   "metadata": {},
   "outputs": [],
   "source": []
  },
  {
   "cell_type": "code",
   "execution_count": null,
   "id": "30d2a04a-bd10-43cf-b72b-f4980bc37946",
   "metadata": {},
   "outputs": [],
   "source": []
  },
  {
   "cell_type": "code",
   "execution_count": null,
   "id": "b03b66e0-c2a4-40da-b927-2d108a0b1d64",
   "metadata": {},
   "outputs": [],
   "source": []
  },
  {
   "cell_type": "code",
   "execution_count": null,
   "id": "341cce73-dfe1-401e-b0cc-f257b5ce5efb",
   "metadata": {},
   "outputs": [],
   "source": []
  },
  {
   "cell_type": "code",
   "execution_count": null,
   "id": "e8bcfd5e-9d96-4620-8bd6-04a914c4dea1",
   "metadata": {},
   "outputs": [],
   "source": []
  },
  {
   "cell_type": "code",
   "execution_count": null,
   "id": "9f07773c-ac4e-4b43-a702-6f3de5bbcb1f",
   "metadata": {},
   "outputs": [],
   "source": []
  },
  {
   "cell_type": "code",
   "execution_count": null,
   "id": "38f55a96-76f0-407d-ad9e-0cef12d2ae57",
   "metadata": {},
   "outputs": [],
   "source": [
    "#~"
   ]
  },
  {
   "cell_type": "code",
   "execution_count": null,
   "id": "84b8ec1c-25d6-482e-93ec-35e6ef1a337c",
   "metadata": {},
   "outputs": [],
   "source": []
  },
  {
   "cell_type": "code",
   "execution_count": null,
   "id": "44b58d99-3fbb-4777-8afb-d98f9244cc41",
   "metadata": {},
   "outputs": [],
   "source": []
  },
  {
   "cell_type": "code",
   "execution_count": null,
   "id": "b7911902-4aa5-4e0b-b097-30aabdaaf011",
   "metadata": {},
   "outputs": [],
   "source": []
  },
  {
   "cell_type": "code",
   "execution_count": null,
   "id": "74500544-561f-4312-a451-a96af621a5df",
   "metadata": {},
   "outputs": [],
   "source": []
  },
  {
   "cell_type": "code",
   "execution_count": null,
   "id": "4bd3bb41-8bf9-402d-81b9-0d49862d8b11",
   "metadata": {},
   "outputs": [],
   "source": [
    "#"
   ]
  },
  {
   "cell_type": "code",
   "execution_count": null,
   "id": "bc00e54e-757e-4514-a0f3-a895c9c7fd4f",
   "metadata": {},
   "outputs": [],
   "source": []
  },
  {
   "cell_type": "code",
   "execution_count": null,
   "id": "745c8a61-2397-4f61-8798-c6eaf92404b2",
   "metadata": {},
   "outputs": [],
   "source": []
  },
  {
   "cell_type": "code",
   "execution_count": null,
   "id": "66733dd4-2fae-4199-8cc0-1b9ff5941b27",
   "metadata": {},
   "outputs": [],
   "source": []
  },
  {
   "cell_type": "code",
   "execution_count": null,
   "id": "4ad683c6-eb8a-4654-8627-218337bc5fd5",
   "metadata": {},
   "outputs": [],
   "source": []
  },
  {
   "cell_type": "code",
   "execution_count": null,
   "id": "1b344bba-e498-4bb4-a913-f08953e41897",
   "metadata": {},
   "outputs": [],
   "source": []
  },
  {
   "cell_type": "code",
   "execution_count": null,
   "id": "80ef6601-4d24-4a17-bc48-1f4bca83cf50",
   "metadata": {},
   "outputs": [],
   "source": []
  },
  {
   "cell_type": "code",
   "execution_count": null,
   "id": "c19722ea-679d-41a5-9039-7a6fcf85702f",
   "metadata": {},
   "outputs": [],
   "source": []
  },
  {
   "cell_type": "code",
   "execution_count": null,
   "id": "333511ec-897b-4759-b65f-3d0405a0f1e0",
   "metadata": {},
   "outputs": [],
   "source": []
  },
  {
   "cell_type": "code",
   "execution_count": null,
   "id": "d5db3dd7-2aa0-4ad0-9e8d-d10b066ee0fb",
   "metadata": {},
   "outputs": [],
   "source": []
  },
  {
   "cell_type": "code",
   "execution_count": null,
   "id": "5e094b99-71fb-4775-bdf2-449049a81e1b",
   "metadata": {},
   "outputs": [],
   "source": []
  },
  {
   "cell_type": "code",
   "execution_count": null,
   "id": "adf2d9f5-bd88-4a2f-9f3a-11d2d8210035",
   "metadata": {},
   "outputs": [],
   "source": []
  },
  {
   "cell_type": "code",
   "execution_count": null,
   "id": "6e54d17a-dcf4-42d0-b5ba-a16bafca14b0",
   "metadata": {},
   "outputs": [],
   "source": []
  },
  {
   "cell_type": "code",
   "execution_count": null,
   "id": "42bbfb5f-ef63-4003-8b48-cd32324b6d0c",
   "metadata": {},
   "outputs": [],
   "source": []
  },
  {
   "cell_type": "code",
   "execution_count": null,
   "id": "995d57de-fcb2-4c4b-9a2c-ed6bdd831b4a",
   "metadata": {},
   "outputs": [],
   "source": [
    "#"
   ]
  },
  {
   "cell_type": "code",
   "execution_count": null,
   "id": "bce5faa8-4ec2-4cce-806e-b62b1cd2eb72",
   "metadata": {},
   "outputs": [],
   "source": []
  },
  {
   "cell_type": "code",
   "execution_count": null,
   "id": "4dcb7691-a6d9-4b1d-966c-738edb03cb81",
   "metadata": {},
   "outputs": [],
   "source": [
    "#"
   ]
  },
  {
   "cell_type": "code",
   "execution_count": null,
   "id": "d516027b-f2c7-4c2e-9e21-49b2f644e5b8",
   "metadata": {},
   "outputs": [],
   "source": []
  },
  {
   "cell_type": "code",
   "execution_count": null,
   "id": "73d78137-5d6c-40bb-ad74-adebf6b2e382",
   "metadata": {},
   "outputs": [],
   "source": []
  },
  {
   "cell_type": "code",
   "execution_count": null,
   "id": "62dc3e81-5be6-4b51-990b-676d5f253d7e",
   "metadata": {},
   "outputs": [],
   "source": []
  },
  {
   "cell_type": "code",
   "execution_count": null,
   "id": "f6ac8001-24c7-4b63-8ebc-5e3b32e71542",
   "metadata": {},
   "outputs": [],
   "source": []
  },
  {
   "cell_type": "code",
   "execution_count": null,
   "id": "02e2b18c-ba3d-4d5c-813f-245dfe1ee355",
   "metadata": {},
   "outputs": [],
   "source": []
  },
  {
   "cell_type": "code",
   "execution_count": null,
   "id": "c623ee02-22b9-4a2a-812d-ebaacb2a0715",
   "metadata": {},
   "outputs": [],
   "source": []
  },
  {
   "cell_type": "code",
   "execution_count": null,
   "id": "a44c6133-db5b-4fa5-8d44-b54c9a05e5bb",
   "metadata": {},
   "outputs": [],
   "source": []
  },
  {
   "cell_type": "code",
   "execution_count": null,
   "id": "7e2be098-47fa-4772-9ad7-1bc88d692721",
   "metadata": {},
   "outputs": [],
   "source": []
  },
  {
   "cell_type": "code",
   "execution_count": null,
   "id": "716687d1-aeab-4760-a2b7-928a37d56da2",
   "metadata": {},
   "outputs": [],
   "source": []
  },
  {
   "cell_type": "code",
   "execution_count": null,
   "id": "9e1c5b36-ef7f-4d8d-8d62-75305454add9",
   "metadata": {},
   "outputs": [],
   "source": []
  },
  {
   "cell_type": "code",
   "execution_count": null,
   "id": "3a4278d6-b049-4884-84f3-d41323cf3161",
   "metadata": {},
   "outputs": [],
   "source": []
  },
  {
   "cell_type": "code",
   "execution_count": null,
   "id": "e7d33861-72c8-4fa5-b629-9e6629823073",
   "metadata": {},
   "outputs": [],
   "source": []
  },
  {
   "cell_type": "code",
   "execution_count": null,
   "id": "5c45b15e-3ed5-49c0-b654-dbb53fa0c092",
   "metadata": {},
   "outputs": [],
   "source": []
  },
  {
   "cell_type": "code",
   "execution_count": null,
   "id": "10d5b347-d148-4d38-bdf8-bc9d1f362f29",
   "metadata": {},
   "outputs": [],
   "source": [
    "#"
   ]
  },
  {
   "cell_type": "code",
   "execution_count": null,
   "id": "21424dc0-393d-4755-924c-77d931da76f5",
   "metadata": {},
   "outputs": [],
   "source": [
    "#"
   ]
  },
  {
   "cell_type": "code",
   "execution_count": null,
   "id": "bb7a0932-cb87-44ed-8004-9deb4592ab41",
   "metadata": {},
   "outputs": [],
   "source": []
  },
  {
   "cell_type": "code",
   "execution_count": null,
   "id": "75e0a1de-4c43-41d0-8d01-243785dcb303",
   "metadata": {},
   "outputs": [],
   "source": []
  },
  {
   "cell_type": "code",
   "execution_count": null,
   "id": "529497b3-c47b-45f6-b77f-743afa5a763f",
   "metadata": {},
   "outputs": [],
   "source": []
  },
  {
   "cell_type": "code",
   "execution_count": null,
   "id": "abd020d0-dd92-4b0d-adca-a80d29912f56",
   "metadata": {},
   "outputs": [],
   "source": [
    "#"
   ]
  },
  {
   "cell_type": "code",
   "execution_count": null,
   "id": "0de717a3-5907-4c17-8e54-85f104632645",
   "metadata": {},
   "outputs": [],
   "source": [
    "##"
   ]
  },
  {
   "cell_type": "code",
   "execution_count": null,
   "id": "73c84979-8427-4b1c-bddf-eaaa0229838d",
   "metadata": {},
   "outputs": [],
   "source": []
  },
  {
   "cell_type": "code",
   "execution_count": null,
   "id": "2c8d386c-2376-4051-9a8a-d8da60f9e85c",
   "metadata": {},
   "outputs": [],
   "source": [
    "#"
   ]
  },
  {
   "cell_type": "code",
   "execution_count": null,
   "id": "72745645-ae2c-4b8d-b8c8-b26998427d91",
   "metadata": {},
   "outputs": [],
   "source": []
  },
  {
   "cell_type": "code",
   "execution_count": null,
   "id": "02a77747-7a96-405a-92f5-68b5b411343d",
   "metadata": {},
   "outputs": [],
   "source": [
    "#"
   ]
  },
  {
   "cell_type": "code",
   "execution_count": null,
   "id": "affb902f-0241-4e68-9a0c-7fdf6ace323a",
   "metadata": {},
   "outputs": [],
   "source": []
  },
  {
   "cell_type": "code",
   "execution_count": null,
   "id": "f2bed89f-140f-43fe-874a-288f24728082",
   "metadata": {},
   "outputs": [],
   "source": []
  },
  {
   "cell_type": "code",
   "execution_count": null,
   "id": "b5a53eea-e3d8-4cc0-aacc-5dda987e4bba",
   "metadata": {},
   "outputs": [],
   "source": []
  },
  {
   "cell_type": "code",
   "execution_count": null,
   "id": "2169f651-12c2-4749-b2f6-8ff36e5b3c36",
   "metadata": {},
   "outputs": [],
   "source": []
  },
  {
   "cell_type": "code",
   "execution_count": null,
   "id": "1bc141a9-8fb3-42d6-868a-4761c8b45a50",
   "metadata": {},
   "outputs": [],
   "source": [
    "#"
   ]
  },
  {
   "cell_type": "code",
   "execution_count": null,
   "id": "853c631e-3161-4d74-af4c-d49c532e124a",
   "metadata": {},
   "outputs": [],
   "source": [
    "#"
   ]
  },
  {
   "cell_type": "code",
   "execution_count": null,
   "id": "5609f3e3-8642-4433-829f-744e939deb6e",
   "metadata": {},
   "outputs": [],
   "source": [
    "#"
   ]
  },
  {
   "cell_type": "code",
   "execution_count": null,
   "id": "15cd6cb2-cb3b-4790-96cc-5cca537afb76",
   "metadata": {},
   "outputs": [],
   "source": [
    "#"
   ]
  },
  {
   "cell_type": "code",
   "execution_count": null,
   "id": "e255908a-a479-4eb4-bb42-9cbe9efaea57",
   "metadata": {},
   "outputs": [],
   "source": [
    "#"
   ]
  },
  {
   "cell_type": "code",
   "execution_count": null,
   "id": "6c5e46dd-f3c1-4728-9a77-b698085ff503",
   "metadata": {},
   "outputs": [],
   "source": []
  },
  {
   "cell_type": "code",
   "execution_count": null,
   "id": "cc2b6d7d-37b0-4933-8a33-f353c938ff33",
   "metadata": {},
   "outputs": [],
   "source": []
  },
  {
   "cell_type": "code",
   "execution_count": null,
   "id": "4853186f-100a-4fe3-ac55-8d9322e52ef6",
   "metadata": {},
   "outputs": [],
   "source": []
  },
  {
   "cell_type": "code",
   "execution_count": null,
   "id": "32e23913-8082-426d-ac84-eef0249aa4c2",
   "metadata": {},
   "outputs": [],
   "source": []
  },
  {
   "cell_type": "code",
   "execution_count": null,
   "id": "8814c276-6fe5-4c3c-9fac-5cdff3b20c68",
   "metadata": {},
   "outputs": [],
   "source": []
  },
  {
   "cell_type": "code",
   "execution_count": null,
   "id": "71f5a0da-0b2f-40fa-846d-992a22166093",
   "metadata": {},
   "outputs": [],
   "source": []
  },
  {
   "cell_type": "code",
   "execution_count": null,
   "id": "57f86ddd-b03d-4fee-ae51-957b2f3be361",
   "metadata": {},
   "outputs": [],
   "source": []
  },
  {
   "cell_type": "code",
   "execution_count": null,
   "id": "0c84e0d2-c1d2-4d51-be50-10f7433a32a2",
   "metadata": {},
   "outputs": [],
   "source": []
  },
  {
   "cell_type": "code",
   "execution_count": null,
   "id": "dfcd0ec8-c9ec-4800-a0aa-b941d78aabc5",
   "metadata": {},
   "outputs": [],
   "source": []
  },
  {
   "cell_type": "code",
   "execution_count": null,
   "id": "17097ffa-cc8e-4b41-8a07-56f81e490cee",
   "metadata": {},
   "outputs": [],
   "source": []
  },
  {
   "cell_type": "code",
   "execution_count": null,
   "id": "e6f97b60-46ce-453b-9627-a95085485c4a",
   "metadata": {},
   "outputs": [],
   "source": []
  },
  {
   "cell_type": "code",
   "execution_count": null,
   "id": "2ec356a7-3054-4913-9734-05c3fb08be6c",
   "metadata": {},
   "outputs": [],
   "source": []
  },
  {
   "cell_type": "code",
   "execution_count": null,
   "id": "55160952-1756-4e08-929c-b2dddbd78a98",
   "metadata": {},
   "outputs": [],
   "source": []
  },
  {
   "cell_type": "code",
   "execution_count": null,
   "id": "a675400a-099b-4765-8ee6-08e1cec838ce",
   "metadata": {},
   "outputs": [],
   "source": []
  },
  {
   "cell_type": "code",
   "execution_count": null,
   "id": "6032daf6-5826-45c8-8f86-4a08bea071e3",
   "metadata": {},
   "outputs": [],
   "source": []
  },
  {
   "cell_type": "code",
   "execution_count": null,
   "id": "70ce0dcc-8079-4649-a98a-51d2f4d071bd",
   "metadata": {},
   "outputs": [],
   "source": []
  },
  {
   "cell_type": "code",
   "execution_count": null,
   "id": "51cdbcdb-3d34-4b6f-b386-13356863c244",
   "metadata": {},
   "outputs": [],
   "source": []
  },
  {
   "cell_type": "code",
   "execution_count": null,
   "id": "276bdffa-50ec-4145-a1f9-69d775730f86",
   "metadata": {},
   "outputs": [],
   "source": []
  },
  {
   "cell_type": "code",
   "execution_count": null,
   "id": "38f3521d-de45-476f-a29d-7c61e22aa2de",
   "metadata": {},
   "outputs": [],
   "source": []
  },
  {
   "cell_type": "code",
   "execution_count": null,
   "id": "3b4beb66-c146-4413-9128-ea00ab71caad",
   "metadata": {},
   "outputs": [],
   "source": []
  },
  {
   "cell_type": "code",
   "execution_count": null,
   "id": "3da9f38b-d620-46b5-b7d5-345c6562db7f",
   "metadata": {},
   "outputs": [],
   "source": []
  },
  {
   "cell_type": "code",
   "execution_count": null,
   "id": "0f378f5b-8624-4cc2-b567-8a64733a3384",
   "metadata": {},
   "outputs": [],
   "source": []
  },
  {
   "cell_type": "code",
   "execution_count": null,
   "id": "747516af-20f2-48f0-bfd3-66c045ee41d7",
   "metadata": {},
   "outputs": [],
   "source": []
  },
  {
   "cell_type": "code",
   "execution_count": null,
   "id": "db85aced-a0d0-4380-8d65-b854c59430e0",
   "metadata": {},
   "outputs": [],
   "source": []
  },
  {
   "cell_type": "code",
   "execution_count": null,
   "id": "f2bd4662-3093-47ee-91ec-9ae416fec0c8",
   "metadata": {},
   "outputs": [],
   "source": []
  },
  {
   "cell_type": "code",
   "execution_count": null,
   "id": "09236404-7d05-4395-96b2-6117468f7e4c",
   "metadata": {},
   "outputs": [],
   "source": []
  },
  {
   "cell_type": "code",
   "execution_count": null,
   "id": "35f778f6-d56c-4364-ade2-89502527d43d",
   "metadata": {},
   "outputs": [],
   "source": []
  },
  {
   "cell_type": "code",
   "execution_count": null,
   "id": "207bd09a-debf-4314-910d-25c80e593f03",
   "metadata": {},
   "outputs": [],
   "source": []
  },
  {
   "cell_type": "code",
   "execution_count": null,
   "id": "7437539d-d1fc-49fc-9645-b8135c3981bb",
   "metadata": {},
   "outputs": [],
   "source": []
  },
  {
   "cell_type": "code",
   "execution_count": null,
   "id": "972319b3-18b9-4f76-b411-b86f3e4968aa",
   "metadata": {},
   "outputs": [],
   "source": []
  },
  {
   "cell_type": "code",
   "execution_count": null,
   "id": "a0a8a705-7f1a-4e00-944b-2dc55bb3c0e7",
   "metadata": {},
   "outputs": [],
   "source": []
  },
  {
   "cell_type": "code",
   "execution_count": null,
   "id": "b69e3743-7a35-4c41-8a4e-76ece25fa66a",
   "metadata": {},
   "outputs": [],
   "source": []
  },
  {
   "cell_type": "code",
   "execution_count": null,
   "id": "7106c8f5-f3f3-4180-bdb2-0d7698122d12",
   "metadata": {},
   "outputs": [],
   "source": []
  },
  {
   "cell_type": "code",
   "execution_count": null,
   "id": "4018a969-d4a3-48c0-8e98-2ab8395cfe76",
   "metadata": {},
   "outputs": [],
   "source": []
  },
  {
   "cell_type": "code",
   "execution_count": null,
   "id": "47699aba-7f80-4e3c-84aa-6c242faee163",
   "metadata": {},
   "outputs": [],
   "source": []
  },
  {
   "cell_type": "code",
   "execution_count": null,
   "id": "71b5d34b-d31c-4315-adad-3d0b92d0d9ec",
   "metadata": {},
   "outputs": [],
   "source": []
  },
  {
   "cell_type": "code",
   "execution_count": null,
   "id": "218424b8-cafe-4e66-8d47-537d5be86aa2",
   "metadata": {},
   "outputs": [],
   "source": []
  },
  {
   "cell_type": "code",
   "execution_count": null,
   "id": "cfafd24e-a24c-4a2f-a4de-79f2a89cd24a",
   "metadata": {},
   "outputs": [],
   "source": []
  },
  {
   "cell_type": "code",
   "execution_count": null,
   "id": "4aab26c0-4873-43c2-8b31-23e1219e5f35",
   "metadata": {},
   "outputs": [],
   "source": []
  },
  {
   "cell_type": "code",
   "execution_count": null,
   "id": "3a7a27da-c3d2-4b58-ba3b-c0adf5c2810f",
   "metadata": {},
   "outputs": [],
   "source": []
  },
  {
   "cell_type": "code",
   "execution_count": null,
   "id": "791176e9-6df7-4fd7-8a78-4b51661145cb",
   "metadata": {},
   "outputs": [],
   "source": []
  },
  {
   "cell_type": "code",
   "execution_count": null,
   "id": "c1a68cc4-0b7a-42f7-9221-023bb82ab830",
   "metadata": {},
   "outputs": [],
   "source": []
  },
  {
   "cell_type": "code",
   "execution_count": null,
   "id": "7a93d59c-664b-4410-b7b3-1adc08e2d3e0",
   "metadata": {},
   "outputs": [],
   "source": []
  },
  {
   "cell_type": "code",
   "execution_count": null,
   "id": "653d8c8a-a762-4162-b240-831932211d12",
   "metadata": {},
   "outputs": [],
   "source": []
  },
  {
   "cell_type": "code",
   "execution_count": null,
   "id": "06baa748-cebd-45ac-a0ca-53e5cd376457",
   "metadata": {},
   "outputs": [],
   "source": []
  },
  {
   "cell_type": "code",
   "execution_count": null,
   "id": "0cb750d0-d436-4adb-8eff-cf6807e4b447",
   "metadata": {},
   "outputs": [],
   "source": []
  },
  {
   "cell_type": "code",
   "execution_count": null,
   "id": "731338aa-2daf-40d1-b72d-e8fb31c68964",
   "metadata": {},
   "outputs": [],
   "source": []
  },
  {
   "cell_type": "code",
   "execution_count": null,
   "id": "62e78c18-897c-4645-a764-4ce729781098",
   "metadata": {},
   "outputs": [],
   "source": []
  },
  {
   "cell_type": "code",
   "execution_count": null,
   "id": "cdf23ca1-90c5-4e72-b23b-4bd10b78654f",
   "metadata": {},
   "outputs": [],
   "source": []
  },
  {
   "cell_type": "code",
   "execution_count": null,
   "id": "03968349-43f5-4595-b441-9a38b341f18f",
   "metadata": {},
   "outputs": [],
   "source": []
  },
  {
   "cell_type": "code",
   "execution_count": null,
   "id": "1040c150-00e0-45d2-a875-f8fbec99cab6",
   "metadata": {},
   "outputs": [],
   "source": []
  },
  {
   "cell_type": "code",
   "execution_count": null,
   "id": "2ca01a0b-bca6-479f-80c7-cc61a38b6074",
   "metadata": {},
   "outputs": [],
   "source": []
  },
  {
   "cell_type": "code",
   "execution_count": null,
   "id": "719189a6-0e40-42fc-8a0e-b16138f711d4",
   "metadata": {},
   "outputs": [],
   "source": []
  },
  {
   "cell_type": "code",
   "execution_count": null,
   "id": "7ea4f8f5-b803-4d8f-aafe-fdaccaebf639",
   "metadata": {},
   "outputs": [],
   "source": []
  },
  {
   "cell_type": "code",
   "execution_count": null,
   "id": "aaadb644-78ff-458b-8931-72333f7746bd",
   "metadata": {},
   "outputs": [],
   "source": [
    "#"
   ]
  },
  {
   "cell_type": "code",
   "execution_count": null,
   "id": "e98ae654-4152-47da-ae4f-5e6e02ad86d2",
   "metadata": {},
   "outputs": [],
   "source": []
  },
  {
   "cell_type": "code",
   "execution_count": null,
   "id": "670c3512-94c2-4e2a-beaa-f53f59fbe610",
   "metadata": {},
   "outputs": [],
   "source": []
  },
  {
   "cell_type": "code",
   "execution_count": null,
   "id": "9e87f805-fe73-487f-a9b2-e4c159ab5d50",
   "metadata": {},
   "outputs": [],
   "source": []
  },
  {
   "cell_type": "code",
   "execution_count": null,
   "id": "2a4d4083-ae57-4099-8949-79b6e49a061c",
   "metadata": {},
   "outputs": [],
   "source": []
  },
  {
   "cell_type": "code",
   "execution_count": null,
   "id": "0eea3d7b-7a65-4efd-a459-d985f703f7e4",
   "metadata": {},
   "outputs": [],
   "source": []
  },
  {
   "cell_type": "code",
   "execution_count": null,
   "id": "ecb22e36-6931-4f68-9ef0-19703dbcc4ae",
   "metadata": {},
   "outputs": [],
   "source": []
  },
  {
   "cell_type": "code",
   "execution_count": null,
   "id": "bb071795-f395-46ce-acfe-231810610b00",
   "metadata": {},
   "outputs": [],
   "source": []
  },
  {
   "cell_type": "code",
   "execution_count": null,
   "id": "ca5b2f89-9bdc-419f-bd79-ccc65a89c35f",
   "metadata": {},
   "outputs": [],
   "source": []
  },
  {
   "cell_type": "code",
   "execution_count": null,
   "id": "cb795b82-ec12-4d35-8562-5d1911455a33",
   "metadata": {},
   "outputs": [],
   "source": []
  },
  {
   "cell_type": "code",
   "execution_count": null,
   "id": "3e9dff2f-573d-4038-af54-d0ef7fc67c96",
   "metadata": {},
   "outputs": [],
   "source": []
  },
  {
   "cell_type": "code",
   "execution_count": null,
   "id": "d8cb2acd-73cd-47c0-999c-43e58787e3a3",
   "metadata": {},
   "outputs": [],
   "source": []
  },
  {
   "cell_type": "code",
   "execution_count": null,
   "id": "5e4b17f3-3530-490a-b924-2250108985f2",
   "metadata": {},
   "outputs": [],
   "source": []
  },
  {
   "cell_type": "code",
   "execution_count": null,
   "id": "5ae7a998-4615-4241-a9d6-7e7de47d03bb",
   "metadata": {},
   "outputs": [],
   "source": []
  },
  {
   "cell_type": "code",
   "execution_count": null,
   "id": "e6c29baa-8973-4b02-8045-89a3ebbb9917",
   "metadata": {},
   "outputs": [],
   "source": []
  },
  {
   "cell_type": "code",
   "execution_count": null,
   "id": "eb5f9022-8fc6-4a1c-94dc-95727efa07f8",
   "metadata": {},
   "outputs": [],
   "source": []
  },
  {
   "cell_type": "code",
   "execution_count": null,
   "id": "e20f9a6a-8f30-4197-9110-fe3e2df05317",
   "metadata": {},
   "outputs": [],
   "source": []
  },
  {
   "cell_type": "code",
   "execution_count": null,
   "id": "129e44b9-c8cd-48d8-b0bd-98e0b6fae903",
   "metadata": {},
   "outputs": [],
   "source": []
  },
  {
   "cell_type": "code",
   "execution_count": null,
   "id": "f9a8ccb8-0cef-477a-8b59-b791226c696a",
   "metadata": {},
   "outputs": [],
   "source": []
  },
  {
   "cell_type": "code",
   "execution_count": null,
   "id": "bc09f540-a79e-418d-af13-bfbaeb955914",
   "metadata": {},
   "outputs": [],
   "source": []
  },
  {
   "cell_type": "code",
   "execution_count": null,
   "id": "3b37d327-f56e-4203-a9d3-aa43f4a6ba2b",
   "metadata": {},
   "outputs": [],
   "source": []
  },
  {
   "cell_type": "code",
   "execution_count": null,
   "id": "eabd3bcc-1833-4c2e-ac16-a1fef7309b76",
   "metadata": {},
   "outputs": [],
   "source": []
  },
  {
   "cell_type": "code",
   "execution_count": null,
   "id": "47d4962d-5001-466a-81ac-e5bafefa8996",
   "metadata": {},
   "outputs": [],
   "source": []
  },
  {
   "cell_type": "code",
   "execution_count": null,
   "id": "73928d90-dd0e-4163-b85f-9419caa98e24",
   "metadata": {},
   "outputs": [],
   "source": []
  },
  {
   "cell_type": "code",
   "execution_count": null,
   "id": "fe0e2c3d-dc88-4d19-8dfc-def8379bc165",
   "metadata": {},
   "outputs": [],
   "source": []
  },
  {
   "cell_type": "code",
   "execution_count": null,
   "id": "43013542-0d05-48db-ae59-8262bfc4178f",
   "metadata": {},
   "outputs": [],
   "source": []
  },
  {
   "cell_type": "code",
   "execution_count": null,
   "id": "1b2783eb-e0c8-451a-a68b-9d3b05da754d",
   "metadata": {},
   "outputs": [],
   "source": []
  },
  {
   "cell_type": "code",
   "execution_count": null,
   "id": "ee7e1c72-27c7-49c0-a3c7-88c38b2fb4f1",
   "metadata": {},
   "outputs": [],
   "source": []
  },
  {
   "cell_type": "code",
   "execution_count": null,
   "id": "9ec6ce72-1eef-41b2-a638-289a01612da4",
   "metadata": {},
   "outputs": [],
   "source": []
  },
  {
   "cell_type": "code",
   "execution_count": null,
   "id": "d168094e-7d80-4882-a261-be56fbc647b4",
   "metadata": {},
   "outputs": [],
   "source": []
  },
  {
   "cell_type": "code",
   "execution_count": null,
   "id": "3388ec60-12a7-4449-8cbd-456bfcd99241",
   "metadata": {},
   "outputs": [],
   "source": [
    "##"
   ]
  },
  {
   "cell_type": "code",
   "execution_count": null,
   "id": "9a830a34-3141-4c74-9ec5-dafab1f51f8f",
   "metadata": {},
   "outputs": [],
   "source": [
    "#"
   ]
  },
  {
   "cell_type": "code",
   "execution_count": null,
   "id": "270eb6c1-7be6-4c78-abf8-f0b01b125dcb",
   "metadata": {},
   "outputs": [],
   "source": [
    "#"
   ]
  },
  {
   "cell_type": "code",
   "execution_count": null,
   "id": "a480e055-8e9a-4dea-bb11-60a60a695fba",
   "metadata": {},
   "outputs": [],
   "source": []
  },
  {
   "cell_type": "code",
   "execution_count": null,
   "id": "eca64d10-ed47-43a2-92f1-9e8a69a8a0d9",
   "metadata": {},
   "outputs": [],
   "source": []
  },
  {
   "cell_type": "code",
   "execution_count": null,
   "id": "814200de-2094-43f6-b569-d37dead18c01",
   "metadata": {},
   "outputs": [],
   "source": [
    "\n",
    "\n",
    "\n",
    "\n",
    "\n",
    "#"
   ]
  },
  {
   "cell_type": "code",
   "execution_count": null,
   "id": "df815ee7-223e-4880-abb0-352020dc5ad1",
   "metadata": {},
   "outputs": [],
   "source": [
    "##"
   ]
  },
  {
   "cell_type": "code",
   "execution_count": null,
   "id": "b98a39ee-fd8d-48ea-aadc-6faed74d76c5",
   "metadata": {},
   "outputs": [],
   "source": [
    "##"
   ]
  },
  {
   "cell_type": "code",
   "execution_count": null,
   "id": "f034aa19-485b-4a0f-8c2c-de3c875321c7",
   "metadata": {},
   "outputs": [],
   "source": []
  },
  {
   "cell_type": "code",
   "execution_count": null,
   "id": "45549865-5617-4576-849a-476162442342",
   "metadata": {},
   "outputs": [],
   "source": [
    "##"
   ]
  },
  {
   "cell_type": "code",
   "execution_count": null,
   "id": "46fc3a26-5516-4f9d-8d5c-7d6482ff3842",
   "metadata": {},
   "outputs": [],
   "source": [
    "#"
   ]
  },
  {
   "cell_type": "code",
   "execution_count": null,
   "id": "69fbb328-099e-4516-9033-845ff7837531",
   "metadata": {},
   "outputs": [],
   "source": [
    "#"
   ]
  },
  {
   "cell_type": "code",
   "execution_count": null,
   "id": "43243448-10e3-4517-a906-555b11502841",
   "metadata": {},
   "outputs": [],
   "source": [
    "##"
   ]
  },
  {
   "cell_type": "code",
   "execution_count": null,
   "id": "27300fd9-01a7-4cd3-86ba-06e8c841c311",
   "metadata": {},
   "outputs": [],
   "source": []
  },
  {
   "cell_type": "code",
   "execution_count": null,
   "id": "e1b8a1de-d602-4756-8ab3-1de2cbac649a",
   "metadata": {},
   "outputs": [],
   "source": [
    "#"
   ]
  },
  {
   "cell_type": "code",
   "execution_count": null,
   "id": "9539b5d5-8a84-444d-a422-880a4d991207",
   "metadata": {},
   "outputs": [],
   "source": []
  },
  {
   "cell_type": "code",
   "execution_count": null,
   "id": "037e6434-0108-487e-874b-92d035bcfa42",
   "metadata": {},
   "outputs": [],
   "source": []
  },
  {
   "cell_type": "code",
   "execution_count": null,
   "id": "f72039b0-c89f-4265-ad89-b8fb8a992111",
   "metadata": {},
   "outputs": [],
   "source": []
  },
  {
   "cell_type": "code",
   "execution_count": null,
   "id": "f6388e48-0545-46e9-a283-f45872377555",
   "metadata": {},
   "outputs": [],
   "source": [
    "#"
   ]
  },
  {
   "cell_type": "code",
   "execution_count": null,
   "id": "efd91601-3ba7-4ed8-8f43-df24605599dd",
   "metadata": {},
   "outputs": [],
   "source": [
    "##"
   ]
  },
  {
   "cell_type": "code",
   "execution_count": null,
   "id": "5b3607ad-19ba-4ca2-9018-5b4c7f7ddb19",
   "metadata": {},
   "outputs": [],
   "source": [
    "#"
   ]
  },
  {
   "cell_type": "code",
   "execution_count": null,
   "id": "9134430b-397a-4752-9d2f-eeb239290e5c",
   "metadata": {},
   "outputs": [],
   "source": [
    "#"
   ]
  },
  {
   "cell_type": "code",
   "execution_count": null,
   "id": "8b633d0d-32ba-4978-8e65-9313e1007f12",
   "metadata": {},
   "outputs": [],
   "source": [
    "#"
   ]
  },
  {
   "cell_type": "code",
   "execution_count": null,
   "id": "75a17d52-79f4-4fb4-b72b-48fb427b1b16",
   "metadata": {},
   "outputs": [],
   "source": [
    "#"
   ]
  },
  {
   "cell_type": "code",
   "execution_count": null,
   "id": "806ee51c-d037-4652-a2ad-38bcf37adb62",
   "metadata": {},
   "outputs": [],
   "source": [
    "##"
   ]
  },
  {
   "cell_type": "code",
   "execution_count": null,
   "id": "28f36c6e-82a4-4a8d-9782-8e8cf7b4a2be",
   "metadata": {},
   "outputs": [],
   "source": [
    "####"
   ]
  },
  {
   "cell_type": "code",
   "execution_count": null,
   "id": "f087a65c-c9e3-4a59-9b5e-1f724133234a",
   "metadata": {},
   "outputs": [],
   "source": [
    "##"
   ]
  },
  {
   "cell_type": "code",
   "execution_count": null,
   "id": "7aaf73d8-3669-4435-9e6d-69710aa70507",
   "metadata": {},
   "outputs": [],
   "source": [
    "#"
   ]
  },
  {
   "cell_type": "code",
   "execution_count": null,
   "id": "eb47bc14-13ae-4c1d-8628-68de806aabcc",
   "metadata": {},
   "outputs": [],
   "source": [
    "#"
   ]
  },
  {
   "cell_type": "code",
   "execution_count": null,
   "id": "2e8551f1-6772-4959-a9ee-4217f1396bf4",
   "metadata": {},
   "outputs": [],
   "source": [
    "#"
   ]
  },
  {
   "cell_type": "code",
   "execution_count": null,
   "id": "b6705309-b84c-45c0-a67b-91fda401cb56",
   "metadata": {},
   "outputs": [],
   "source": [
    "##"
   ]
  },
  {
   "cell_type": "code",
   "execution_count": null,
   "id": "b3193f6e-ca24-47db-b663-fcdf0a3d9d40",
   "metadata": {},
   "outputs": [],
   "source": [
    "~"
   ]
  },
  {
   "cell_type": "code",
   "execution_count": null,
   "id": "cff18717-028e-46ee-8b2f-73b71033f6dd",
   "metadata": {},
   "outputs": [],
   "source": [
    "~##"
   ]
  },
  {
   "cell_type": "code",
   "execution_count": null,
   "id": "97a8a4fa-3d71-4e07-8807-c7c73de69eab",
   "metadata": {},
   "outputs": [],
   "source": [
    "###~#"
   ]
  },
  {
   "cell_type": "code",
   "execution_count": null,
   "id": "f86f304f-27cd-480d-9aaf-897bf7ab44f7",
   "metadata": {},
   "outputs": [],
   "source": []
  },
  {
   "cell_type": "code",
   "execution_count": null,
   "id": "17cca702-acd4-4e54-be78-5de5c4929750",
   "metadata": {},
   "outputs": [],
   "source": [
    "~"
   ]
  },
  {
   "cell_type": "code",
   "execution_count": null,
   "id": "b784cc30-500c-4a62-9f86-d2909ec9b464",
   "metadata": {},
   "outputs": [],
   "source": [
    "~~~~~~~~~~~~~~~~~~~~~~"
   ]
  },
  {
   "cell_type": "code",
   "execution_count": null,
   "id": "bd276a74-95b2-4adf-999f-04558f38c79d",
   "metadata": {},
   "outputs": [],
   "source": [
    "~~"
   ]
  },
  {
   "cell_type": "code",
   "execution_count": null,
   "id": "a093da68-8226-4469-85ea-824d2e158b6e",
   "metadata": {},
   "outputs": [],
   "source": []
  },
  {
   "cell_type": "code",
   "execution_count": null,
   "id": "ce7066b3-ad55-4219-9f06-3c317c46aedf",
   "metadata": {},
   "outputs": [],
   "source": []
  },
  {
   "cell_type": "code",
   "execution_count": null,
   "id": "81e4442d-d2b2-4415-b9e1-3b4ca42e09a8",
   "metadata": {},
   "outputs": [],
   "source": []
  },
  {
   "cell_type": "code",
   "execution_count": null,
   "id": "9940b6c0-f627-4e4d-ad67-6464f5566150",
   "metadata": {},
   "outputs": [],
   "source": []
  },
  {
   "cell_type": "code",
   "execution_count": null,
   "id": "3e873244-43bf-4eab-acc7-6ba4275563bb",
   "metadata": {},
   "outputs": [],
   "source": []
  },
  {
   "cell_type": "code",
   "execution_count": null,
   "id": "274a365c-e6dd-44f5-846b-382c4f5801b7",
   "metadata": {},
   "outputs": [],
   "source": [
    "~"
   ]
  },
  {
   "cell_type": "code",
   "execution_count": null,
   "id": "732ac433-8bf9-4a1a-b6a1-3ce7f161f46e",
   "metadata": {},
   "outputs": [],
   "source": []
  },
  {
   "cell_type": "code",
   "execution_count": null,
   "id": "9ee76106-5460-41cd-a86d-b4e096802e6b",
   "metadata": {},
   "outputs": [],
   "source": []
  },
  {
   "cell_type": "code",
   "execution_count": null,
   "id": "d5d9b5f4-8187-46ef-89da-e342f75b0792",
   "metadata": {},
   "outputs": [],
   "source": []
  },
  {
   "cell_type": "code",
   "execution_count": null,
   "id": "54087977-5386-44c5-bab4-6da1c005f631",
   "metadata": {},
   "outputs": [],
   "source": []
  },
  {
   "cell_type": "code",
   "execution_count": null,
   "id": "47eddc13-54a4-4ca3-94fb-c7e38407691a",
   "metadata": {},
   "outputs": [],
   "source": []
  },
  {
   "cell_type": "code",
   "execution_count": null,
   "id": "35bf1869-ad3a-4838-9b3c-09692522ffc2",
   "metadata": {},
   "outputs": [],
   "source": [
    "~"
   ]
  },
  {
   "cell_type": "code",
   "execution_count": null,
   "id": "989d70c5-6da7-410f-a905-44fb5ed3ec0a",
   "metadata": {},
   "outputs": [],
   "source": []
  },
  {
   "cell_type": "code",
   "execution_count": null,
   "id": "c4acd054-ccf0-45ae-baf3-7ff681801c59",
   "metadata": {},
   "outputs": [],
   "source": []
  },
  {
   "cell_type": "code",
   "execution_count": null,
   "id": "f55aca00-d6a1-48cb-a94a-6683de4c6088",
   "metadata": {},
   "outputs": [],
   "source": []
  },
  {
   "cell_type": "code",
   "execution_count": null,
   "id": "45855b96-3ac5-400b-8b65-ca949f52403d",
   "metadata": {},
   "outputs": [],
   "source": []
  },
  {
   "cell_type": "code",
   "execution_count": null,
   "id": "f01cf911-c7c8-442c-9e1c-e470fc4b59aa",
   "metadata": {},
   "outputs": [],
   "source": []
  }
 ],
 "metadata": {
  "kernelspec": {
   "display_name": "Python 3 (ipykernel)",
   "language": "python",
   "name": "python3"
  },
  "language_info": {
   "codemirror_mode": {
    "name": "ipython",
    "version": 3
   },
   "file_extension": ".py",
   "mimetype": "text/x-python",
   "name": "python",
   "nbconvert_exporter": "python",
   "pygments_lexer": "ipython3",
   "version": "3.9.16"
  }
 },
 "nbformat": 4,
 "nbformat_minor": 5
}
